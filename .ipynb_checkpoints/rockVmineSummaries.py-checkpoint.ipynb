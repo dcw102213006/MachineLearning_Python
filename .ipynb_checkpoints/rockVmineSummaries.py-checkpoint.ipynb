{
 "cells": [
  {
   "cell_type": "code",
   "execution_count": 2,
   "metadata": {},
   "outputs": [],
   "source": [
    "\n",
    "\n",
    "from urllib.request import urlopen\n",
    "import sys\n",
    "\n"
   ]
  },
  {
   "cell_type": "code",
   "execution_count": 34,
   "metadata": {
    "collapsed": true
   },
   "outputs": [],
   "source": [
    "target_url=(\"https://archive.ics.uci.edu/ml/machine-learning-databases/undocumented/connectionist-bench/sonar/sonar.all-data\")\n",
    "data=urlopen(target_url)"
   ]
  },
  {
   "cell_type": "code",
   "execution_count": 35,
   "metadata": {
    "scrolled": false
   },
   "outputs": [],
   "source": [
    "xList=[]\n",
    "labels=[]\n",
    "\n",
    "for line in data:\n",
    "    \n",
    "    row=bytes.decode(line).strip().split(\",\")\n",
    "    xList.append(row)\n",
    "    \n",
    "    \n",
    "nrow=len(xList)\n",
    "ncol=len(xList[1])\n",
    "\n",
    "\n",
    "\n",
    "type=[0]*3\n",
    "colCounts=[]\n",
    "\n",
    "#產生第3欄(舉例)的統計摘要\n",
    "\n",
    "\n",
    "\n",
    "\n",
    "\n",
    "\n",
    "    "
   ]
  },
  {
   "cell_type": "code",
   "execution_count": 36,
   "metadata": {
    "scrolled": false
   },
   "outputs": [
    {
     "name": "stdout",
     "output_type": "stream",
     "text": [
      "Col#\t\tNumber\t\tStrings\t\tOther\n",
      "0\t\t208\t\t0\t\t0\n",
      "1\t\t208\t\t0\t\t0\n",
      "2\t\t208\t\t0\t\t0\n",
      "3\t\t208\t\t0\t\t0\n",
      "4\t\t208\t\t0\t\t0\n",
      "5\t\t208\t\t0\t\t0\n",
      "6\t\t208\t\t0\t\t0\n",
      "7\t\t208\t\t0\t\t0\n",
      "8\t\t208\t\t0\t\t0\n",
      "9\t\t208\t\t0\t\t0\n",
      "10\t\t208\t\t0\t\t0\n",
      "11\t\t208\t\t0\t\t0\n",
      "12\t\t208\t\t0\t\t0\n",
      "13\t\t208\t\t0\t\t0\n",
      "14\t\t208\t\t0\t\t0\n",
      "15\t\t208\t\t0\t\t0\n",
      "16\t\t208\t\t0\t\t0\n",
      "17\t\t208\t\t0\t\t0\n",
      "18\t\t208\t\t0\t\t0\n",
      "19\t\t208\t\t0\t\t0\n",
      "20\t\t208\t\t0\t\t0\n",
      "21\t\t208\t\t0\t\t0\n",
      "22\t\t208\t\t0\t\t0\n",
      "23\t\t208\t\t0\t\t0\n",
      "24\t\t208\t\t0\t\t0\n",
      "25\t\t208\t\t0\t\t0\n",
      "26\t\t208\t\t0\t\t0\n",
      "27\t\t208\t\t0\t\t0\n",
      "28\t\t208\t\t0\t\t0\n",
      "29\t\t208\t\t0\t\t0\n",
      "30\t\t208\t\t0\t\t0\n",
      "31\t\t208\t\t0\t\t0\n",
      "32\t\t208\t\t0\t\t0\n",
      "33\t\t208\t\t0\t\t0\n",
      "34\t\t208\t\t0\t\t0\n",
      "35\t\t208\t\t0\t\t0\n",
      "36\t\t208\t\t0\t\t0\n",
      "37\t\t208\t\t0\t\t0\n",
      "38\t\t208\t\t0\t\t0\n",
      "39\t\t208\t\t0\t\t0\n",
      "40\t\t208\t\t0\t\t0\n",
      "41\t\t208\t\t0\t\t0\n",
      "42\t\t208\t\t0\t\t0\n",
      "43\t\t208\t\t0\t\t0\n",
      "44\t\t208\t\t0\t\t0\n",
      "45\t\t208\t\t0\t\t0\n",
      "46\t\t208\t\t0\t\t0\n",
      "47\t\t208\t\t0\t\t0\n",
      "48\t\t208\t\t0\t\t0\n",
      "49\t\t208\t\t0\t\t0\n",
      "50\t\t208\t\t0\t\t0\n",
      "51\t\t208\t\t0\t\t0\n",
      "52\t\t208\t\t0\t\t0\n",
      "53\t\t208\t\t0\t\t0\n",
      "54\t\t208\t\t0\t\t0\n",
      "55\t\t208\t\t0\t\t0\n",
      "56\t\t208\t\t0\t\t0\n",
      "57\t\t208\t\t0\t\t0\n",
      "58\t\t208\t\t0\t\t0\n",
      "59\t\t208\t\t0\t\t0\n",
      "60\t\t0\t\t208\t\t0\n"
     ]
    }
   ],
   "source": [
    "# sys.stdout.write(\"Number of Rows of Data=\"+str(len(xList))+'\\n')\n",
    "# sys.stdout.write(\"Number of Columns of Data=\"+str(len(xList[1]))+'\\n')\n",
    "# print(xList)\n",
    "\n"
   ]
  },
  {
   "cell_type": "code",
   "execution_count": null,
   "metadata": {
    "collapsed": true
   },
   "outputs": [],
   "source": [
    "# for col in range(ncol):\n",
    "#     for row in xList:\n",
    "#         try: \n",
    "#             a=float(row[col])\n",
    "\n",
    "#             if isinstance(a,float):\n",
    "#                 type[0]+=1\n",
    "#         except ValueError:\n",
    "            \n",
    "#             if len(row[col])>0:\n",
    "#                 type[1]+=1\n",
    "#             else: type[2]+=1\n",
    "#     colCounts.append(type)\n",
    "#     type=[0]*3\n",
    "\n",
    "# sys.stdout.write(\"Col#\" + \"\\t\\t\"+\"Number\" +\"\\t\\t\" + \"Strings\" + \"\\t\\t\" + \"Other\\n\")\n",
    "# iCol=0\n",
    "# for types in colCounts:\n",
    "#     sys.stdout.write(str(iCol)+\"\\t\\t\" +str(types[0])+\"\\t\\t\"+str(types[1])+\"\\t\\t\"+str(types[2])+\"\\n\")\n",
    "#     iCol+=1"
   ]
  }
 ],
 "metadata": {
  "kernelspec": {
   "display_name": "Python 3",
   "language": "python",
   "name": "python3"
  }
 },
 "nbformat": 4,
 "nbformat_minor": 2
}
