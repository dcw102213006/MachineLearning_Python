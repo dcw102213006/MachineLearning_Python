{
 "cells": [
  {
   "cell_type": "code",
   "execution_count": 1,
   "metadata": {
    "collapsed": true
   },
   "outputs": [],
   "source": [
    "##產生統計摘要\n",
    "\n",
    "from urllib.request import urlopen\n",
    "import sys\n",
    "import numpy as np\n",
    "import pylab\n",
    "import scipy.stats as stats"
   ]
  },
  {
   "cell_type": "code",
   "execution_count": 2,
   "metadata": {
    "collapsed": true
   },
   "outputs": [],
   "source": [
    "target_url=(\"https://archive.ics.uci.edu/ml/machine-learning-databases/undocumented/connectionist-bench/sonar/sonar.all-data\")\n",
    "data=urlopen(target_url)"
   ]
  },
  {
   "cell_type": "code",
   "execution_count": 3,
   "metadata": {},
   "outputs": [
    {
     "name": "stdout",
     "output_type": "stream",
     "text": [
      "Mean=\t0.0538923076923\t\tStandard Deviation=\t0.0464159832226\n"
     ]
    }
   ],
   "source": [
    "xList=[]\n",
    "labels=[]\n",
    "\n",
    "for line in data:\n",
    "    \n",
    "    row=bytes.decode(line).strip().split(\",\")\n",
    "    xList.append(row)\n",
    "    \n",
    "    \n",
    "nrow=len(xList)\n",
    "ncol=len(xList[1])\n",
    "\n",
    "\n",
    "\n",
    "type=[0]*3\n",
    "colCounts=[]\n",
    "\n",
    "#產生第3欄的統計摘要\n",
    "col=3\n",
    "colData=[]\n",
    "\n",
    "\n",
    "for row in xList:\n",
    "    colData.append(float(row[col]))\n",
    "colArray=np.array(colData)\n",
    "colMean=np.mean(colArray)\n",
    "colsd=np.std(colArray)\n",
    "sys.stdout.write(\"Mean=\"+\"\\t\"+str(colMean)+\"\\t\\t\"+\"Standard Deviation=\" + \"\\t\" +str(colsd)+\"\\n\")\n",
    "\n",
    "\n",
    "\n"
   ]
  }
 ],
 "metadata": {
  "kernelspec": {
   "display_name": "Python 3",
   "language": "python",
   "name": "python3"
  },
  "language_info": {
   "codemirror_mode": {
    "name": "ipython",
    "version": 3
   },
   "file_extension": ".py",
   "mimetype": "text/x-python",
   "name": "python",
   "nbconvert_exporter": "python",
   "pygments_lexer": "ipython3",
   "version": "3.6.3"
  }
 },
 "nbformat": 4,
 "nbformat_minor": 2
}
